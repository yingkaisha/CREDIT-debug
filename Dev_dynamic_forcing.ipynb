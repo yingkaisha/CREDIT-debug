{
 "cells": [
  {
   "cell_type": "markdown",
   "id": "14320390-493c-42e2-9416-963a806519c6",
   "metadata": {},
   "source": [
    "# Compare the old and new ERA5Dataset class"
   ]
  },
  {
   "cell_type": "code",
   "execution_count": 1,
   "id": "ce65f35c-90c7-48eb-a9d1-3aab77968e37",
   "metadata": {},
   "outputs": [],
   "source": [
    "import os\n",
    "import sys\n",
    "import yaml\n",
    "import glob\n",
    "import numpy as np"
   ]
  },
  {
   "cell_type": "code",
   "execution_count": null,
   "id": "d7714c9b-76b5-49ab-b91d-eb93c3354793",
   "metadata": {},
   "outputs": [],
   "source": []
  },
  {
   "cell_type": "code",
   "execution_count": 2,
   "id": "5c2216d5-1af0-44ab-b857-d7a366874dec",
   "metadata": {},
   "outputs": [],
   "source": [
    "import os\n",
    "from functools import reduce\n",
    "from itertools import repeat\n",
    "from dataclasses import dataclass, field\n",
    "from typing import Optional, Callable, TypedDict, Union, Iterable, NamedTuple, List\n",
    "\n",
    "# data utils\n",
    "import datetime\n",
    "import pandas as pd\n",
    "import xarray as xr\n",
    "\n",
    "# Pytorch utils\n",
    "import torch\n",
    "import torch.utils.data\n",
    "from torch.utils.data import get_worker_info\n",
    "from torch.utils.data.distributed import DistributedSampler"
   ]
  },
  {
   "cell_type": "code",
   "execution_count": 3,
   "id": "efab0e7e-a9df-4023-99d5-adaad436a6ac",
   "metadata": {},
   "outputs": [],
   "source": [
    "from typing import Dict\n",
    "import logging\n",
    "logger = logging.getLogger(__name__)"
   ]
  },
  {
   "cell_type": "code",
   "execution_count": 4,
   "id": "b6c26325-fe80-4042-8a2d-dbafb6887e7d",
   "metadata": {},
   "outputs": [],
   "source": [
    "from torchvision import transforms as tforms\n",
    "from credit.data import Sample, drop_var_from_dataset, find_key_for_number"
   ]
  },
  {
   "cell_type": "code",
   "execution_count": 5,
   "id": "2daa243b-6f05-4b50-a3bf-4a6a09f63b62",
   "metadata": {},
   "outputs": [],
   "source": [
    "from credit.data import ERA5Dataset, ERA5_and_Forcing_Dataset\n",
    "from credit.transforms import load_transforms\n",
    "from torch.utils.data.distributed import DistributedSampler"
   ]
  },
  {
   "cell_type": "code",
   "execution_count": 6,
   "id": "34bc3ce6-e34b-4929-9e28-a3e0c4f2f238",
   "metadata": {},
   "outputs": [],
   "source": [
    "# old rollout config\n",
    "config_name = '/glade/work/ksha/repos/global/miles-credit/results/fuxi_norm/model.yml'\n",
    "# Read YAML file\n",
    "with open(config_name, 'r') as stream:\n",
    "    conf_old = yaml.safe_load(stream)\n",
    "\n",
    "# new rollout config\n",
    "config_name = '/glade/work/ksha/repos/global/miles-credit/results/fuxi_norm/model_new.yml'\n",
    "# Read YAML file\n",
    "with open(config_name, 'r') as stream:\n",
    "    conf_new = yaml.safe_load(stream)\n",
    "\n",
    "# new rollout config\n",
    "config_name = '/glade/work/ksha/repos/global/miles-credit/results/fuxi_norm/model_dyn.yml'\n",
    "# Read YAML file\n",
    "with open(config_name, 'r') as stream:\n",
    "    conf_dyn = yaml.safe_load(stream)"
   ]
  },
  {
   "cell_type": "code",
   "execution_count": 7,
   "id": "0bf3f00f-55eb-4a89-86ba-788bdee57910",
   "metadata": {},
   "outputs": [],
   "source": [
    "rank = 0\n",
    "world_size = 1"
   ]
  },
  {
   "cell_type": "markdown",
   "id": "9e4b2471-d526-4619-b3fd-8aa09be56d18",
   "metadata": {},
   "source": [
    "## New dataset"
   ]
  },
  {
   "cell_type": "code",
   "execution_count": 8,
   "id": "f800e730-ea31-45bd-8d71-d3587d1b7e3c",
   "metadata": {},
   "outputs": [],
   "source": [
    "# conf = conf_new\n",
    "# is_train = True"
   ]
  },
  {
   "cell_type": "code",
   "execution_count": 9,
   "id": "a7e2c3af-910f-4f38-ab83-586f963022e6",
   "metadata": {},
   "outputs": [],
   "source": [
    "conf = conf_dyn\n",
    "is_train = True"
   ]
  },
  {
   "cell_type": "code",
   "execution_count": 10,
   "id": "b2030980-496d-4e17-8cc3-644cd9b07aaf",
   "metadata": {},
   "outputs": [],
   "source": [
    "if 'train_years' in conf['data']:\n",
    "    train_years_range = conf['data']['train_years']\n",
    "else:\n",
    "    train_years_range = [1979, 2014]\n",
    "\n",
    "if 'valid_years' in conf['data']:\n",
    "    valid_years_range = conf['data']['valid_years']\n",
    "else:\n",
    "    valid_years_range = [2014, 2018]\n",
    "\n",
    "# convert year info to str for file name search\n",
    "train_years = [str(year) for year in range(train_years_range[0], train_years_range[1])]\n",
    "valid_years = [str(year) for year in range(valid_years_range[0], valid_years_range[1])]"
   ]
  },
  {
   "cell_type": "code",
   "execution_count": 11,
   "id": "d75b46f7-a06b-4e81-8106-57d4bf589a67",
   "metadata": {},
   "outputs": [
    {
     "name": "stdout",
     "output_type": "stream",
     "text": [
      "collecting surface files\n",
      "collecting dynamic forcing files\n"
     ]
    }
   ],
   "source": [
    "# get file names\n",
    "all_ERA_files = sorted(glob.glob(conf[\"data\"][\"save_loc\"]))\n",
    "\n",
    "# <------------------------------------------ std_new\n",
    "if conf['data']['scaler_type'] == 'std_new':\n",
    "\n",
    "    # check and glob surface files\n",
    "    if ('surface_variables' in conf['data']) and (len(conf['data']['surface_variables']) > 0):\n",
    "        \n",
    "        print('collecting surface files')\n",
    "        surface_files = sorted(glob.glob(conf[\"data\"][\"save_loc_surface\"]))\n",
    "        \n",
    "    else:\n",
    "        surface_files = None\n",
    "\n",
    "    # check and glob dyn forcing files\n",
    "    if ('dynamic_forcing_variables' in conf['data']) and (len(conf['data']['dynamic_forcing_variables']) > 0):\n",
    "\n",
    "        print('collecting dynamic forcing files')\n",
    "        dyn_forcing_files = sorted(glob.glob(conf[\"data\"][\"save_loc_dynamic_forcing\"]))\n",
    "        \n",
    "    else:\n",
    "        dyn_forcing_files = None\n",
    "\n",
    "    # check and glob diagnostic files\n",
    "    if ('diagnostic_variables' in conf['data']) and (len(conf['data']['diagnostic_variables']) > 0):\n",
    "\n",
    "        print('collecting diagnostic files')\n",
    "        diagnostic_files = sorted(glob.glob(conf[\"data\"][\"save_loc_diagnostic\"]))\n",
    "        \n",
    "    else:\n",
    "        diagnostic_files = None"
   ]
  },
  {
   "cell_type": "code",
   "execution_count": 12,
   "id": "80f718d9-c506-42c5-84d2-a43d7ddb4e0d",
   "metadata": {},
   "outputs": [],
   "source": [
    "# Filter the files for training / validation\n",
    "train_files = [file for file in all_ERA_files if any(year in file for year in train_years)]\n",
    "valid_files = [file for file in all_ERA_files if any(year in file for year in valid_years)]\n",
    "\n",
    "# <----------------------------------- std_new\n",
    "if conf['data']['scaler_type'] == 'std_new':\n",
    "    \n",
    "    if surface_files is not None:\n",
    "        \n",
    "        train_surface_files = [file for file in surface_files if any(year in file for year in train_years)]\n",
    "        valid_surface_files = [file for file in surface_files if any(year in file for year in valid_years)]\n",
    "\n",
    "        # ---------------------------- #\n",
    "        # check total number of files\n",
    "        assert len(train_surface_files) == len(train_files), \\\n",
    "        'Mismatch between the total number of training set [surface files] and [upper-air files]'\n",
    "        assert len(valid_surface_files) == len(valid_files), \\\n",
    "        'Mismatch between the total number of validation set [surface files] and [upper-air files]'\n",
    "    \n",
    "    else:\n",
    "        train_surface_files = None\n",
    "        valid_surface_files = None\n",
    "\n",
    "    if dyn_forcing_files is not None:\n",
    "        \n",
    "        train_dyn_forcing_files = [file for file in dyn_forcing_files if any(year in file for year in train_years)]\n",
    "        valid_dyn_forcing_files = [file for file in dyn_forcing_files if any(year in file for year in valid_years)]\n",
    "\n",
    "        # ---------------------------- #\n",
    "        # check total number of files\n",
    "        assert len(train_dyn_forcing_files) == len(train_files), \\\n",
    "        'Mismatch between the total number of training set [dynamic forcing files] and [upper-air files]'\n",
    "        assert len(valid_dyn_forcing_files) == len(valid_files), \\\n",
    "        'Mismatch between the total number of validation set [dynamic forcing files] and [upper-air files]'\n",
    "    \n",
    "    else:\n",
    "        train_dyn_forcing_files = None\n",
    "        valid_dyn_forcing_files = None\n",
    "        \n",
    "    if diagnostic_files is not None:\n",
    "        \n",
    "        train_diagnostic_files = [file for file in diagnostic_files if any(year in file for year in train_years)]\n",
    "        valid_diagnostic_files = [file for file in diagnostic_files if any(year in file for year in valid_years)]\n",
    "\n",
    "        # ---------------------------- #\n",
    "        # check total number of files\n",
    "        assert len(train_diagnostic_files) == len(train_files), \\\n",
    "        'Mismatch between the total number of training set [diagnostic files] and [upper-air files]'\n",
    "        assert len(valid_diagnostic_files) == len(valid_files), \\\n",
    "        'Mismatch between the total number of validation set [diagnostic files] and [upper-air files]'\n",
    "    \n",
    "    else:\n",
    "        train_diagnostic_files = None\n",
    "        valid_diagnostic_files = None"
   ]
  },
  {
   "cell_type": "code",
   "execution_count": 13,
   "id": "ccd1f5d1-aec7-4c8d-aeb0-81e63a3dc742",
   "metadata": {},
   "outputs": [],
   "source": [
    "# file names\n",
    "varname_all = []\n",
    "\n",
    "# upper air\n",
    "varname_upper_air = conf['data']['variables']\n",
    "\n",
    "if ('forcing_variables' in conf['data']) and (len(conf['data']['forcing_variables']) > 0):\n",
    "    forcing_files = conf['data']['save_loc_forcing']\n",
    "    varname_forcing = conf['data']['forcing_variables']\n",
    "else:\n",
    "    forcing_files = None\n",
    "    varname_forcing = None\n",
    "    \n",
    "if ('static_variables' in conf['data']) and (len(conf['data']['static_variables']) > 0):\n",
    "    static_files = conf['data']['save_loc_static']\n",
    "    varname_static = conf['data']['static_variables']\n",
    "else:\n",
    "    static_files = None\n",
    "    varname_static = None\n",
    "\n",
    "# get surface variable names\n",
    "if surface_files is not None:\n",
    "    varname_surface = conf['data']['surface_variables']\n",
    "else:\n",
    "    varname_surface = None\n",
    "\n",
    "# get dynamic forcing variable names\n",
    "if dyn_forcing_files is not None:\n",
    "    varname_dyn_forcing = conf['data']['dynamic_forcing_variables']\n",
    "else:\n",
    "    varname_dyn_forcing = None\n",
    "\n",
    "# get diagnostic variable names\n",
    "if diagnostic_files is not None:\n",
    "    varname_diagnostic = conf['data']['diagnostic_variables']\n",
    "else:\n",
    "    varname_diagnostic = None\n",
    "        \n",
    "# number of previous lead time inputs\n",
    "history_len = conf[\"data\"][\"history_len\"]\n",
    "valid_history_len = conf[\"data\"][\"valid_history_len\"]\n",
    "\n",
    "# number of lead times to forecast\n",
    "forecast_len = conf[\"data\"][\"forecast_len\"]\n",
    "valid_forecast_len = conf[\"data\"][\"valid_forecast_len\"]\n",
    "\n",
    "if is_train:\n",
    "    history_len = history_len\n",
    "    forecast_len = forecast_len\n",
    "    # print out training / validation\n",
    "    name = \"training\"\n",
    "else:\n",
    "    history_len = valid_history_len\n",
    "    forecast_len = valid_forecast_len\n",
    "    name = 'validation'\n",
    "    \n",
    "# max_forecast_len\n",
    "if \"max_forecast_len\" not in conf[\"data\"]:\n",
    "    max_forecast_len = None\n",
    "else:\n",
    "    max_forecast_len = conf[\"data\"][\"max_forecast_len\"]\n",
    "\n",
    "# skip_periods\n",
    "if \"skip_periods\" not in conf[\"data\"]:\n",
    "    skip_periods = None\n",
    "else:\n",
    "    skip_periods = conf[\"data\"][\"skip_periods\"]\n",
    "    \n",
    "# one_shot\n",
    "if \"one_shot\" not in conf[\"data\"]:\n",
    "    one_shot = None\n",
    "else:\n",
    "    one_shot = conf[\"data\"][\"one_shot\"]\n",
    "\n",
    "# shufle\n",
    "shuffle = False"
   ]
  },
  {
   "cell_type": "code",
   "execution_count": 14,
   "id": "0693a797-97c1-429b-a7e7-c7d6b7852a18",
   "metadata": {},
   "outputs": [],
   "source": [
    "# data preprocessing utils\n",
    "transforms = load_transforms(conf)"
   ]
  },
  {
   "cell_type": "code",
   "execution_count": 15,
   "id": "ba57c0fb-931c-49bd-ba1c-ab3d8c546560",
   "metadata": {},
   "outputs": [],
   "source": [
    "# Z-score\n",
    "dataset = ERA5_and_Forcing_Dataset(\n",
    "    varname_upper_air=varname_upper_air,\n",
    "    varname_surface=varname_surface,\n",
    "    varname_dyn_forcing=varname_dyn_forcing,\n",
    "    varname_forcing=varname_forcing,\n",
    "    varname_static=varname_static,\n",
    "    varname_diagnostic=varname_diagnostic,\n",
    "    filenames=all_ERA_files,\n",
    "    filename_surface=surface_files,\n",
    "    filename_dyn_forcing=dyn_forcing_files,\n",
    "    filename_forcing=forcing_files,\n",
    "    filename_static=static_files,\n",
    "    filename_diagnostic=diagnostic_files,\n",
    "    history_len=history_len,\n",
    "    forecast_len=forecast_len,\n",
    "    skip_periods=skip_periods,\n",
    "    one_shot=one_shot,\n",
    "    max_forecast_len=max_forecast_len,\n",
    "    transform=transforms\n",
    ")"
   ]
  },
  {
   "cell_type": "code",
   "execution_count": null,
   "id": "0fcee5de-d6d7-41c1-91ee-81206592ef57",
   "metadata": {},
   "outputs": [],
   "source": []
  },
  {
   "cell_type": "code",
   "execution_count": 16,
   "id": "2a824965-8853-4c6a-8dab-84b690e99112",
   "metadata": {},
   "outputs": [],
   "source": [
    "samples_dyn = next(iter(dataset))"
   ]
  },
  {
   "cell_type": "code",
   "execution_count": null,
   "id": "4dce4671-7330-4acf-a30b-a0b9fd1697d3",
   "metadata": {},
   "outputs": [],
   "source": []
  },
  {
   "cell_type": "code",
   "execution_count": 17,
   "id": "f12068f0-597f-430e-b109-2727b9341cd6",
   "metadata": {},
   "outputs": [
    {
     "data": {
      "text/plain": [
       "dict_keys(['x_forcing_static', 'x_surf', 'x', 'y_surf', 'y', 'index'])"
      ]
     },
     "execution_count": 17,
     "metadata": {},
     "output_type": "execute_result"
    }
   ],
   "source": [
    "samples_dyn.keys()"
   ]
  },
  {
   "cell_type": "code",
   "execution_count": 18,
   "id": "87701a74-6079-4b2f-a756-adb3b3d8f277",
   "metadata": {},
   "outputs": [
    {
     "data": {
      "text/plain": [
       "torch.Size([2, 4, 640, 1280])"
      ]
     },
     "execution_count": 18,
     "metadata": {},
     "output_type": "execute_result"
    }
   ],
   "source": [
    "samples_dyn['x_forcing_static'].shape"
   ]
  },
  {
   "cell_type": "code",
   "execution_count": 21,
   "id": "594651e3-2c85-434e-b36d-3ae68793fe9f",
   "metadata": {},
   "outputs": [
    {
     "data": {
      "text/plain": [
       "tensor([[0.0000, 0.0000, 0.0000,  ..., 0.0000, 0.0000, 0.0000],\n",
       "        [0.0000, 0.0000, 0.0000,  ..., 0.0000, 0.0000, 0.0000],\n",
       "        [0.0000, 0.0000, 0.0000,  ..., 0.0000, 0.0000, 0.0000],\n",
       "        ...,\n",
       "        [0.6970, 0.6970, 0.6970,  ..., 0.6969, 0.6969, 0.6969],\n",
       "        [0.7052, 0.7052, 0.7052,  ..., 0.7052, 0.7052, 0.7052],\n",
       "        [0.7133, 0.7133, 0.7133,  ..., 0.7133, 0.7133, 0.7133]])"
      ]
     },
     "execution_count": 21,
     "metadata": {},
     "output_type": "execute_result"
    }
   ],
   "source": [
    "samples_dyn['x_forcing_static'][1, 3, ...]"
   ]
  },
  {
   "cell_type": "code",
   "execution_count": null,
   "id": "637e9ae3-dea0-4ef5-add9-a1e593253308",
   "metadata": {},
   "outputs": [],
   "source": []
  },
  {
   "cell_type": "code",
   "execution_count": null,
   "id": "0bb963dd-4f7d-4a84-b0c4-666dfed2b3f3",
   "metadata": {},
   "outputs": [],
   "source": []
  },
  {
   "cell_type": "code",
   "execution_count": null,
   "id": "80d805d4-f009-4caf-af8f-df2c0554260c",
   "metadata": {},
   "outputs": [],
   "source": []
  },
  {
   "cell_type": "markdown",
   "id": "7dfe35f8-65a7-44fd-9f89-b7f3d18be9b6",
   "metadata": {},
   "source": [
    "## Old Dataset"
   ]
  },
  {
   "cell_type": "code",
   "execution_count": 12,
   "id": "0ad627a6-9f9d-437f-852b-81981cfa2c1b",
   "metadata": {},
   "outputs": [],
   "source": [
    "conf = conf_old\n",
    "is_train = True"
   ]
  },
  {
   "cell_type": "code",
   "execution_count": 13,
   "id": "f387eeb7-a6fb-401f-bd6b-141ea6d1a44e",
   "metadata": {},
   "outputs": [],
   "source": [
    "# number of previous lead time inputs\n",
    "history_len = conf[\"data\"][\"history_len\"]\n",
    "valid_history_len = conf[\"data\"][\"valid_history_len\"]\n",
    "history_len = history_len if is_train else valid_history_len\n",
    "\n",
    "# number of lead times to forecast\n",
    "forecast_len = conf[\"data\"][\"forecast_len\"]\n",
    "valid_forecast_len = conf[\"data\"][\"valid_forecast_len\"]\n",
    "forecast_len = forecast_len if is_train else valid_forecast_len\n",
    "\n",
    "# optional setting: max_forecast_len\n",
    "max_forecast_len = None if \"max_forecast_len\" not in conf[\"data\"] else conf[\"data\"][\"max_forecast_len\"]\n",
    "\n",
    "# optional setting: skip_periods\n",
    "skip_periods = None if \"skip_periods\" not in conf[\"data\"] else conf[\"data\"][\"skip_periods\"]\n",
    "\n",
    "# optional setting: one_shot\n",
    "one_shot = None if \"one_shot\" not in conf[\"data\"] else conf[\"data\"][\"one_shot\"]\n",
    "\n",
    "# shufle dataloader if training\n",
    "shuffle = False\n",
    "name = \"Train\" if is_train else \"Valid\"\n",
    "\n",
    "# data preprocessing utils\n",
    "transforms = load_transforms(conf)"
   ]
  },
  {
   "cell_type": "code",
   "execution_count": null,
   "id": "beec5cff-3a2b-4f0e-b231-53acda31aefb",
   "metadata": {},
   "outputs": [],
   "source": []
  },
  {
   "cell_type": "code",
   "execution_count": 14,
   "id": "86dcc89e-b35a-48f1-90ed-96654566d03c",
   "metadata": {},
   "outputs": [],
   "source": [
    "dataset_old = ERA5Dataset(\n",
    "    filenames=all_ERA_files,\n",
    "    history_len=history_len,\n",
    "    forecast_len=forecast_len,\n",
    "    skip_periods=skip_periods,\n",
    "    one_shot=one_shot,\n",
    "    max_forecast_len=max_forecast_len,\n",
    "    transform=transforms\n",
    ")"
   ]
  },
  {
   "cell_type": "code",
   "execution_count": 15,
   "id": "20a0104f-50b8-4ecf-a01a-e63ffa6814ac",
   "metadata": {},
   "outputs": [],
   "source": [
    "samples_old = next(iter(dataset_old))"
   ]
  },
  {
   "cell_type": "code",
   "execution_count": null,
   "id": "b6e19182-8666-40f2-8969-7f6da69d2665",
   "metadata": {},
   "outputs": [],
   "source": []
  },
  {
   "cell_type": "markdown",
   "id": "7125e430-50d7-40ff-a657-4db2b2eddf6a",
   "metadata": {},
   "source": [
    "### Dataset iter comparison"
   ]
  },
  {
   "cell_type": "code",
   "execution_count": 16,
   "id": "0161917d-c6d4-40cc-a8d0-436bce6dcf5b",
   "metadata": {},
   "outputs": [
    {
     "data": {
      "text/plain": [
       "-3.7487491219666616e-05"
      ]
     },
     "execution_count": 16,
     "metadata": {},
     "output_type": "execute_result"
    }
   ],
   "source": [
    "# elevation diff\n",
    "np.array(samples_new['x_forcing_static'][:, 0, ...] - samples_old['static'][0, ...] ).sum()"
   ]
  },
  {
   "cell_type": "code",
   "execution_count": 17,
   "id": "5efa3137-811b-4d2d-a982-f2ffa60cfb02",
   "metadata": {},
   "outputs": [
    {
     "data": {
      "text/plain": [
       "0.0"
      ]
     },
     "execution_count": 17,
     "metadata": {},
     "output_type": "execute_result"
    }
   ],
   "source": [
    "# land sea mask diff\n",
    "np.array(samples_new['x_forcing_static'][:, 1, ...] - samples_old['static'][1, ...] ).sum()"
   ]
  },
  {
   "cell_type": "code",
   "execution_count": 18,
   "id": "1faa80d3-7c79-45c5-9c65-d2972ba45109",
   "metadata": {},
   "outputs": [
    {
     "data": {
      "text/plain": [
       "0.0"
      ]
     },
     "execution_count": 18,
     "metadata": {},
     "output_type": "execute_result"
    }
   ],
   "source": [
    "# upper air diff\n",
    "np.array(samples_new['x'] - samples_old['x']).sum()"
   ]
  },
  {
   "cell_type": "code",
   "execution_count": 19,
   "id": "514d4cba-54cc-4032-b64b-1f555809beb1",
   "metadata": {},
   "outputs": [
    {
     "data": {
      "text/plain": [
       "0.0"
      ]
     },
     "execution_count": 19,
     "metadata": {},
     "output_type": "execute_result"
    }
   ],
   "source": [
    "# surface diff\n",
    "np.array(samples_new['x_surf'] - samples_old['x_surf']).sum()"
   ]
  },
  {
   "cell_type": "code",
   "execution_count": null,
   "id": "ab640d35-f0cc-4327-bbcd-861dbe7e7771",
   "metadata": {},
   "outputs": [],
   "source": []
  },
  {
   "cell_type": "code",
   "execution_count": 21,
   "id": "e6e1f859-1c5d-498e-9326-2ddabbd71816",
   "metadata": {},
   "outputs": [
    {
     "data": {
      "text/plain": [
       "0.0"
      ]
     },
     "execution_count": 21,
     "metadata": {},
     "output_type": "execute_result"
    }
   ],
   "source": [
    "# upper air diff\n",
    "np.array(samples_new['y'] - samples_old['y']).sum()"
   ]
  },
  {
   "cell_type": "code",
   "execution_count": 22,
   "id": "54730b95-6549-4d7e-b755-242dc31a5561",
   "metadata": {},
   "outputs": [
    {
     "data": {
      "text/plain": [
       "0.0"
      ]
     },
     "execution_count": 22,
     "metadata": {},
     "output_type": "execute_result"
    }
   ],
   "source": [
    "# surface diff\n",
    "np.array(samples_new['y_surf'] - samples_old['y_surf']).sum()"
   ]
  },
  {
   "cell_type": "code",
   "execution_count": 20,
   "id": "660f1897-8c46-409d-87c1-ab00f0163962",
   "metadata": {},
   "outputs": [
    {
     "data": {
      "text/plain": [
       "dict_keys(['x_forcing_static', 'x_surf', 'x', 'y_surf', 'y', 'index'])"
      ]
     },
     "execution_count": 20,
     "metadata": {},
     "output_type": "execute_result"
    }
   ],
   "source": [
    "samples_new.keys()"
   ]
  },
  {
   "cell_type": "code",
   "execution_count": null,
   "id": "a1ea319c-f246-4589-a7d4-3e80a2e27edd",
   "metadata": {},
   "outputs": [],
   "source": []
  }
 ],
 "metadata": {
  "kernelspec": {
   "display_name": "Python 3 (ipykernel)",
   "language": "python",
   "name": "python3"
  },
  "language_info": {
   "codemirror_mode": {
    "name": "ipython",
    "version": 3
   },
   "file_extension": ".py",
   "mimetype": "text/x-python",
   "name": "python",
   "nbconvert_exporter": "python",
   "pygments_lexer": "ipython3",
   "version": "3.10.13"
  }
 },
 "nbformat": 4,
 "nbformat_minor": 5
}
