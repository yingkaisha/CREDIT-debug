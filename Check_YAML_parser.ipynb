{
 "cells": [
  {
   "cell_type": "code",
   "execution_count": 1,
   "id": "721ffdda-7661-4f2b-af9a-81b39265141f",
   "metadata": {},
   "outputs": [],
   "source": [
    "import os\n",
    "import sys\n",
    "import copy\n",
    "import warnings\n",
    "from glob import glob\n",
    "\n",
    "import yaml\n",
    "import numpy as np\n",
    "\n",
    "from credit.parser import CREDIT_main_parser, training_data_check, predict_data_check"
   ]
  },
  {
   "cell_type": "code",
   "execution_count": 2,
   "id": "5fde3aff-219b-4713-8e1e-bd0d6591cbf1",
   "metadata": {},
   "outputs": [],
   "source": [
    "# old rollout config\n",
    "config_name = '/glade/u/home/ksha/miles-credit/config/wxformer_6h.yml'\n",
    "# Read YAML file\n",
    "with open(config_name, 'r') as stream:\n",
    "    conf = yaml.safe_load(stream)"
   ]
  },
  {
   "cell_type": "code",
   "execution_count": 3,
   "id": "278ce64c-e715-4833-88d2-08cf00016bef",
   "metadata": {},
   "outputs": [],
   "source": [
    "conf = CREDIT_main_parser(conf, parse_training=True, parse_predict=True, print_summary=False)"
   ]
  },
  {
   "cell_type": "code",
   "execution_count": 4,
   "id": "4a71affb-0cef-40cf-8991-dffb8e82bbb7",
   "metadata": {},
   "outputs": [
    {
     "data": {
      "text/plain": [
       "True"
      ]
     },
     "execution_count": 4,
     "metadata": {},
     "output_type": "execute_result"
    }
   ],
   "source": [
    "conf = CREDIT_main_parser(conf, parse_training=True, parse_predict=False, print_summary=False)\n",
    "conf_before = copy.deepcopy(conf)\n",
    "training_data_check(conf, print_summary=False)\n",
    "conf_before == conf"
   ]
  },
  {
   "cell_type": "code",
   "execution_count": null,
   "id": "67220921-3027-4687-932a-8ff9fbe419e6",
   "metadata": {},
   "outputs": [],
   "source": []
  }
 ],
 "metadata": {
  "kernelspec": {
   "display_name": "Python 3 (ipykernel)",
   "language": "python",
   "name": "python3"
  },
  "language_info": {
   "codemirror_mode": {
    "name": "ipython",
    "version": 3
   },
   "file_extension": ".py",
   "mimetype": "text/x-python",
   "name": "python",
   "nbconvert_exporter": "python",
   "pygments_lexer": "ipython3",
   "version": "3.11.9"
  }
 },
 "nbformat": 4,
 "nbformat_minor": 5
}
