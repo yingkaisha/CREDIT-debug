{
 "cells": [
  {
   "cell_type": "code",
   "execution_count": 1,
   "id": "639f7ef6-658f-4e05-a998-ac6f3df36cdb",
   "metadata": {},
   "outputs": [],
   "source": []
  },
  {
   "cell_type": "code",
   "execution_count": null,
   "id": "da702a79-302a-401c-8085-034ed9b91ba7",
   "metadata": {},
   "outputs": [],
   "source": [
    "import yaml"
   ]
  },
  {
   "cell_type": "code",
   "execution_count": 2,
   "id": "5ce2d2f7-b3cf-472a-bf35-750849644e1f",
   "metadata": {},
   "outputs": [],
   "source": [
    "# old rollout config\n",
    "config_name = '/glade/u/home/ksha/miles-credit/config/example.yml'\n",
    "# Read YAML file\n",
    "with open(config_name, 'r') as stream:\n",
    "    conf_old = yaml.safe_load(stream)"
   ]
  },
  {
   "cell_type": "code",
   "execution_count": 3,
   "id": "d3c5fa26-0eb9-462f-8c8b-26dd9f087e27",
   "metadata": {},
   "outputs": [
    {
     "data": {
      "text/plain": [
       "{'variables': ['U', 'V', 'T', 'Q'],\n",
       " 'surface_variables': ['Z500'],\n",
       " 'forcing_variables': ['TSI'],\n",
       " 'static_variables': ['Z_GDS4_SFC', 'LSM'],\n",
       " 'diagnostic_variables': ['tp'],\n",
       " 'save_loc': '/glade/campaign/cisl/aiml/ksha/CREDIT/EXTEND/TOTAL_*',\n",
       " 'save_loc_surface': '/glade/campaign/cisl/aiml/ksha/CREDIT/EXTEND/ERA5_regrid_tp_*',\n",
       " 'save_loc_forcing': '/glade/campaign/cisl/aiml/ksha/CREDIT/forcing_norm.nc',\n",
       " 'save_loc_static': '/glade/campaign/cisl/aiml/ksha/CREDIT/static_norm.nc',\n",
       " 'save_loc_diagnostic': '/glade/campaign/cisl/aiml/ksha/CREDIT/EXTEND/ERA5_regrid_tp_*',\n",
       " 'train_years': [1979, 2014],\n",
       " 'valid_years': [2014, 2018],\n",
       " 'mean_path': '/glade/campaign/cisl/aiml/ksha/CREDIT/EXTEND/All_2010_staged.mean.Lev.SLO.nc',\n",
       " 'std_path': '/glade/campaign/cisl/aiml/ksha/CREDIT/EXTEND/All_2010_staged.std.Lev.SLO.nc',\n",
       " 'scaler_type': 'std_new',\n",
       " 'history_len': 2,\n",
       " 'forecast_len': 0,\n",
       " 'valid_history_len': 1,\n",
       " 'valid_forecast_len': 0,\n",
       " 'one_shot': True,\n",
       " 'lead_time_periods': 6,\n",
       " 'skip_periods': None,\n",
       " 'static_first': False}"
      ]
     },
     "execution_count": 3,
     "metadata": {},
     "output_type": "execute_result"
    }
   ],
   "source": [
    "conf_old['data']"
   ]
  },
  {
   "cell_type": "code",
   "execution_count": null,
   "id": "8218d28d-5f98-4ab9-b9e1-654603fa8c4b",
   "metadata": {},
   "outputs": [],
   "source": []
  }
 ],
 "metadata": {
  "kernelspec": {
   "display_name": "Python 3 (ipykernel)",
   "language": "python",
   "name": "python3"
  },
  "language_info": {
   "codemirror_mode": {
    "name": "ipython",
    "version": 3
   },
   "file_extension": ".py",
   "mimetype": "text/x-python",
   "name": "python",
   "nbconvert_exporter": "python",
   "pygments_lexer": "ipython3",
   "version": "3.10.13"
  }
 },
 "nbformat": 4,
 "nbformat_minor": 5
}
