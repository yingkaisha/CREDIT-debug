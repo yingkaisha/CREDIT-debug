{
 "cells": [
  {
   "cell_type": "markdown",
   "id": "22b17bdd-7fd4-47d8-aec9-2d494eb0fc8b",
   "metadata": {},
   "source": [
    "# Global mass and energy conservations in CREDIT"
   ]
  },
  {
   "cell_type": "code",
   "execution_count": 1,
   "id": "b86947d0-a7cf-401a-993e-81dd999c546e",
   "metadata": {},
   "outputs": [],
   "source": [
    "# system\n",
    "import os\n",
    "import sys\n",
    "import logging\n",
    "from glob import glob\n",
    "from typing import Dict\n",
    "\n",
    "# others\n",
    "import yaml\n",
    "import numpy as np\n",
    "\n",
    "# torch\n",
    "import torch\n",
    "from torch import nn\n",
    "from torchvision import transforms as tforms\n",
    "\n",
    "# credit\n",
    "from credit.data import (\n",
    "    Sample,\n",
    "    concat_and_reshape,\n",
    "    reshape_only,\n",
    "    ERA5_and_Forcing_Dataset,\n",
    "    get_forward_data\n",
    ")\n",
    "\n",
    "from credit.transforms import (\n",
    "    Normalize_ERA5_and_Forcing,\n",
    "    ToTensor_ERA5_and_Forcing,\n",
    "    load_transforms\n",
    ")\n",
    "\n",
    "from credit.parser import (\n",
    "    credit_main_parser,\n",
    "    training_data_check\n",
    ")\n",
    "\n",
    "from credit.physics_core import physics_pressure_level\n",
    "\n",
    "from credit.physics_constants import (RAD_EARTH, GRAVITY, \n",
    "                                      RHO_WATER, LH_WATER, \n",
    "                                      RVGAS, RDGAS, CP_DRY, CP_VAPOR)\n",
    "\n",
    "from credit.postblock import (\n",
    "    PostBlock,\n",
    "    SKEBS,\n",
    "    TracerFixer,\n",
    "    GlobalMassFixer,\n",
    "    GlobalWaterFixer,\n",
    "    GlobalEnergyFixer\n",
    ")"
   ]
  },
  {
   "cell_type": "code",
   "execution_count": 2,
   "id": "960ef70a-9d5b-4759-9dba-385665d3d1dd",
   "metadata": {},
   "outputs": [],
   "source": [
    "# plot\n",
    "import matplotlib.pyplot as plt\n",
    "%matplotlib inline"
   ]
  },
  {
   "cell_type": "code",
   "execution_count": 3,
   "id": "636aa450-27cd-4c6d-86d1-80109ed38790",
   "metadata": {},
   "outputs": [],
   "source": [
    "# Logging setup\n",
    "logger = logging.getLogger(__name__)\n",
    "\n",
    "# single node steup\n",
    "rank = 0\n",
    "world_size = 1"
   ]
  },
  {
   "cell_type": "markdown",
   "id": "76a1b788-965b-4972-bfdd-5e529cb8b045",
   "metadata": {},
   "source": [
    "## Load yaml"
   ]
  },
  {
   "cell_type": "code",
   "execution_count": 49,
   "id": "8ff02646-f4cf-4ac2-9dcd-8593bdde42db",
   "metadata": {},
   "outputs": [],
   "source": [
    "# old rollout config\n",
    "# config_name = '/glade/work/ksha/CREDIT_runs/wxformer_6h/model_single.yml'\n",
    "config_name = '/glade/u/home/ksha/miles-credit/config/example_physics_single.yml'\n",
    "# Read YAML file\n",
    "with open(config_name, 'r') as stream:\n",
    "    conf = yaml.safe_load(stream)"
   ]
  },
  {
   "cell_type": "code",
   "execution_count": 50,
   "id": "60eeef09-6be9-45e2-b877-644c7c050552",
   "metadata": {},
   "outputs": [],
   "source": [
    "conf = credit_main_parser(conf, parse_training=True, parse_predict=False, print_summary=False)"
   ]
  },
  {
   "cell_type": "code",
   "execution_count": 51,
   "id": "cb4729f6-d7ab-438c-811d-b746ee07cc76",
   "metadata": {},
   "outputs": [],
   "source": [
    "var_weights = [\n",
    "                value if isinstance(value, list) else [value]\n",
    "                for value in conf[\"loss\"][\"variable_weights\"].values()\n",
    "            ]\n",
    "            \n",
    "var_weights = np.array(\n",
    "    [item for sublist in var_weights for item in sublist]\n",
    ")"
   ]
  },
  {
   "cell_type": "markdown",
   "id": "d136a12a-3cc5-4715-a1b6-f5bbf41395b9",
   "metadata": {},
   "source": [
    "## Data workflow"
   ]
  },
  {
   "cell_type": "markdown",
   "id": "919f6448-9b9c-4398-9ded-d9abfb1ffbac",
   "metadata": {},
   "source": [
    "### Gather data information"
   ]
  },
  {
   "cell_type": "code",
   "execution_count": 6,
   "id": "03cb6c52-6bdb-4b5b-b032-8d6490fa8d42",
   "metadata": {},
   "outputs": [],
   "source": [
    "# pick a year\n",
    "train_years_range = [2018, 2020]\n",
    "valid_years_range = [2018, 2020]"
   ]
  },
  {
   "cell_type": "code",
   "execution_count": 7,
   "id": "57a46ff7-16d1-4d17-ae69-c0b55222ddf8",
   "metadata": {},
   "outputs": [],
   "source": [
    "all_ERA_files = sorted(glob(conf[\"data\"][\"save_loc\"]))\n",
    "\n",
    "# check and glob surface files\n",
    "if ('surface_variables' in conf['data']) and (len(conf['data']['surface_variables']) > 0):\n",
    "    surface_files = sorted(glob(conf[\"data\"][\"save_loc_surface\"]))\n",
    "\n",
    "else:\n",
    "    surface_files = None\n",
    "\n",
    "# check and glob dyn forcing files\n",
    "if ('dynamic_forcing_variables' in conf['data']) and (len(conf['data']['dynamic_forcing_variables']) > 0):\n",
    "    dyn_forcing_files = sorted(glob(conf[\"data\"][\"save_loc_dynamic_forcing\"]))\n",
    "\n",
    "else:\n",
    "    dyn_forcing_files = None\n",
    "\n",
    "# check and glob diagnostic files\n",
    "if ('diagnostic_variables' in conf['data']) and (len(conf['data']['diagnostic_variables']) > 0):\n",
    "    diagnostic_files = sorted(glob(conf[\"data\"][\"save_loc_diagnostic\"]))\n",
    "\n",
    "else:\n",
    "    diagnostic_files = None\n",
    "\n",
    "# convert year info to str for file name search\n",
    "train_years = [str(year) for year in range(train_years_range[0], train_years_range[1])]\n",
    "valid_years = [str(year) for year in range(valid_years_range[0], valid_years_range[1])]\n",
    "\n",
    "# Filter the files for training / validation\n",
    "train_files = [file for file in all_ERA_files if any(year in file for year in train_years)]\n",
    "valid_files = [file for file in all_ERA_files if any(year in file for year in valid_years)]\n",
    "\n",
    "if surface_files is not None:\n",
    "\n",
    "    train_surface_files = [file for file in surface_files if any(year in file for year in train_years)]\n",
    "    valid_surface_files = [file for file in surface_files if any(year in file for year in valid_years)]\n",
    "    \n",
    "else:\n",
    "    train_surface_files = None\n",
    "    valid_surface_files = None\n",
    "\n",
    "if dyn_forcing_files is not None:\n",
    "\n",
    "    train_dyn_forcing_files = [file for file in dyn_forcing_files if any(year in file for year in train_years)]\n",
    "    valid_dyn_forcing_files = [file for file in dyn_forcing_files if any(year in file for year in valid_years)]\n",
    "\n",
    "else:\n",
    "    train_dyn_forcing_files = None\n",
    "    valid_dyn_forcing_files = None\n",
    "\n",
    "if diagnostic_files is not None:\n",
    "\n",
    "    train_diagnostic_files = [file for file in diagnostic_files if any(year in file for year in train_years)]\n",
    "    valid_diagnostic_files = [file for file in diagnostic_files if any(year in file for year in valid_years)]\n",
    "\n",
    "else:\n",
    "    train_diagnostic_files = None\n",
    "    valid_diagnostic_files = None\n",
    "\n",
    "# --------------------------------------------------- #\n",
    "is_train = False\n",
    "# separate training set and validation set cases\n",
    "if is_train:\n",
    "    history_len = conf[\"data\"][\"history_len\"]\n",
    "    forecast_len = conf[\"data\"][\"forecast_len\"]\n",
    "    name = \"training\"\n",
    "else:\n",
    "    history_len = conf[\"data\"][\"valid_history_len\"]\n",
    "    forecast_len = conf[\"data\"][\"valid_forecast_len\"]\n",
    "    name = 'validation'"
   ]
  },
  {
   "cell_type": "markdown",
   "id": "519b7abb-6cd8-4c8b-a84f-2803d6311421",
   "metadata": {},
   "source": [
    "### Dataset"
   ]
  },
  {
   "cell_type": "code",
   "execution_count": 8,
   "id": "84990726-b0eb-4f00-8c6d-4121a6906f1d",
   "metadata": {},
   "outputs": [],
   "source": [
    "# # transforms\n",
    "transforms = load_transforms(conf)\n",
    "\n",
    "if conf['data']['sst_forcing']['activate']:\n",
    "    sst_forcing = {'varname_skt': conf['data']['sst_forcing']['varname_skt'], \n",
    "                   'varname_ocean_mask': conf['data']['sst_forcing']['varname_ocean_mask']}\n",
    "else:\n",
    "    sst_forcing = None\n",
    "\n",
    "# Z-score\n",
    "dataset = ERA5_and_Forcing_Dataset(\n",
    "    varname_upper_air=conf['data']['variables'],\n",
    "    varname_surface=conf['data']['surface_variables'],\n",
    "    varname_dyn_forcing=conf['data']['dynamic_forcing_variables'],\n",
    "    varname_forcing=conf['data']['forcing_variables'],\n",
    "    varname_static=conf['data']['static_variables'],\n",
    "    varname_diagnostic=conf['data']['diagnostic_variables'],\n",
    "    filenames=train_files,\n",
    "    filename_surface=train_surface_files,\n",
    "    filename_dyn_forcing=train_dyn_forcing_files,\n",
    "    filename_forcing=conf['data']['save_loc_forcing'],\n",
    "    filename_static=conf['data']['save_loc_static'],\n",
    "    filename_diagnostic=train_diagnostic_files,\n",
    "    history_len=history_len,\n",
    "    forecast_len=forecast_len,\n",
    "    skip_periods=conf[\"data\"][\"skip_periods\"],\n",
    "    one_shot=conf['data']['one_shot'],\n",
    "    max_forecast_len=conf[\"data\"][\"max_forecast_len\"],\n",
    "    transform=transforms,\n",
    "    sst_forcing=sst_forcing\n",
    ")\n",
    "\n",
    "# # sampler\n",
    "# sampler = DistributedSampler(\n",
    "#     dataset,\n",
    "#     num_replicas=world_size,\n",
    "#     rank=rank,\n",
    "#     seed=seed,\n",
    "#     shuffle=is_train,\n",
    "#     drop_last=True\n",
    "# )"
   ]
  },
  {
   "cell_type": "markdown",
   "id": "7596ef12-6f7c-486d-838d-c43ead6b0b45",
   "metadata": {},
   "source": [
    "### An example training batch"
   ]
  },
  {
   "cell_type": "code",
   "execution_count": 9,
   "id": "24965281-aad3-40ac-9284-b0bb90441cd8",
   "metadata": {},
   "outputs": [],
   "source": [
    "batch_single = dataset.__getitem__(999)"
   ]
  },
  {
   "cell_type": "code",
   "execution_count": 10,
   "id": "ca3f8270-8969-4cce-9e67-28adf61b2a53",
   "metadata": {},
   "outputs": [],
   "source": [
    "batch = {}\n",
    "keys = list(batch_single.keys())\n",
    "keys = keys[:-1]\n",
    "for var in keys:\n",
    "    batch[var] = batch_single[var].unsqueeze(0) # give a single sample batch dimension\n",
    "\n",
    "# ------------------------- #\n",
    "# base trainer workflow\n",
    "\n",
    "if \"x_surf\" in batch:\n",
    "    # combine x and x_surf\n",
    "    # input: (batch_num, time, var, level, lat, lon), (batch_num, time, var, lat, lon)\n",
    "    # output: (batch_num, var, time, lat, lon), 'x' first and then 'x_surf'\n",
    "    x = concat_and_reshape(batch[\"x\"], batch[\"x_surf\"])\n",
    "else:\n",
    "    # no x_surf\n",
    "    x = reshape_only(batch[\"x\"]).to(self.device).float()\n",
    "\n",
    "# --------------------------------------------------------------------------------- #\n",
    "# add forcing and static variables\n",
    "if 'x_forcing_static' in batch:\n",
    "\n",
    "    # (batch_num, time, var, lat, lon) --> (batch_num, var, time, lat, lon)\n",
    "    x_forcing_batch = batch['x_forcing_static'].permute(0, 2, 1, 3, 4)\n",
    "\n",
    "    # concat on var dimension\n",
    "    x = torch.cat((x, x_forcing_batch), dim=1)\n",
    "\n",
    "# --------------------------------------------------------------------------------- #\n",
    "# combine y and y_surf\n",
    "if \"y_surf\" in batch:\n",
    "    y = concat_and_reshape(batch[\"y\"], batch[\"y_surf\"])\n",
    "else:\n",
    "    y = reshape_only(batch[\"y\"])\n",
    "\n",
    "if 'y_diag' in batch:\n",
    "\n",
    "    # (batch_num, time, var, lat, lon) --> (batch_num, var, time, lat, lon)\n",
    "    y_diag_batch = batch['y_diag'].permute(0, 2, 1, 3, 4).float()\n",
    "\n",
    "    # concat on var dimension\n",
    "    y = torch.cat((y, y_diag_batch), dim=1)"
   ]
  },
  {
   "cell_type": "code",
   "execution_count": null,
   "id": "ba7dabba-ceb2-45e0-8c5f-285644657dfb",
   "metadata": {},
   "outputs": [],
   "source": []
  },
  {
   "cell_type": "code",
   "execution_count": null,
   "id": "6dddb168-7e8d-47fb-896e-cef7ab045e1b",
   "metadata": {},
   "outputs": [],
   "source": [
    "var_weights * y"
   ]
  },
  {
   "cell_type": "code",
   "execution_count": null,
   "id": "444a9198-7711-4d7b-9d2e-9b5ecae6c014",
   "metadata": {},
   "outputs": [],
   "source": []
  },
  {
   "cell_type": "code",
   "execution_count": null,
   "id": "75d641bb-309e-4925-b30c-59e7e536844d",
   "metadata": {},
   "outputs": [],
   "source": []
  }
 ],
 "metadata": {
  "kernelspec": {
   "display_name": "Python 3 (ipykernel)",
   "language": "python",
   "name": "python3"
  },
  "language_info": {
   "codemirror_mode": {
    "name": "ipython",
    "version": 3
   },
   "file_extension": ".py",
   "mimetype": "text/x-python",
   "name": "python",
   "nbconvert_exporter": "python",
   "pygments_lexer": "ipython3",
   "version": "3.11.9"
  }
 },
 "nbformat": 4,
 "nbformat_minor": 5
}
