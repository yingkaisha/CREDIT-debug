{
 "cells": [
  {
   "cell_type": "code",
   "execution_count": 1,
   "id": "e70d7109-5e9e-41dc-9057-cfda28a53ca8",
   "metadata": {},
   "outputs": [],
   "source": [
    "# ---------- #\n",
    "# System\n",
    "import os\n",
    "import gc\n",
    "import sys\n",
    "import yaml\n",
    "import logging\n",
    "import warnings\n",
    "#import traceback\n",
    "from glob import glob\n",
    "from pathlib import Path\n",
    "from argparse import ArgumentParser\n",
    "import multiprocessing as mp\n",
    "\n",
    "# ---------- #\n",
    "# Numerics\n",
    "import datetime\n",
    "import pandas as pd\n",
    "import xarray as xr\n",
    "import numpy as np\n",
    "\n",
    "# ---------- #\n",
    "# AI libs\n",
    "import torch\n",
    "import torch.distributed as dist\n",
    "from torchvision import transforms\n",
    "# import wandb\n",
    "\n",
    "# ---------- #\n",
    "# credit\n",
    "from credit.models import load_model\n",
    "from credit.seed import seed_everything\n",
    "from credit.data import Predict_Dataset, concat_and_reshape, reshape_only\n",
    "from credit.transforms import load_transforms, Normalize_ERA5_and_Forcing\n",
    "from credit.pbs import launch_script, launch_script_mpi\n",
    "from credit.pol_lapdiff_filt import Diffusion_and_Pole_Filter\n",
    "from credit.forecast import load_forecasts\n",
    "from credit.distributed import distributed_model_wrapper\n",
    "from credit.models.checkpoint import load_model_state\n",
    "from credit.output import load_metadata, make_xarray, save_netcdf_increment\n",
    "from torch.utils.data import get_worker_info\n",
    "from torch.utils.data.distributed import DistributedSampler\n"
   ]
  },
  {
   "cell_type": "code",
   "execution_count": 3,
   "id": "aecf4092-0091-4ed4-b5ae-9e816d3a7ba6",
   "metadata": {},
   "outputs": [],
   "source": [
    "config_name = '/glade/work/ksha/repos/global/miles-credit/results/wxformer_6h/model_rollout.yml'\n",
    "# Read YAML file\n",
    "with open(config_name, 'r') as stream:\n",
    "    conf = yaml.safe_load(stream)"
   ]
  },
  {
   "cell_type": "code",
   "execution_count": 4,
   "id": "a3d8d43d-057d-4952-9487-7530a38deb14",
   "metadata": {},
   "outputs": [
    {
     "data": {
      "text/plain": [
       "[['2020-01-01 00:00:00', '2020-01-01 23:00:00'],\n",
       " ['2020-01-02 00:00:00', '2020-01-02 23:00:00']]"
      ]
     },
     "execution_count": 4,
     "metadata": {},
     "output_type": "execute_result"
    }
   ],
   "source": [
    "load_forecasts(conf)"
   ]
  },
  {
   "cell_type": "code",
   "execution_count": 5,
   "id": "809e8b25-2962-4547-833e-af1f3fd404ab",
   "metadata": {},
   "outputs": [
    {
     "data": {
      "text/plain": [
       "datetime.datetime(2020, 1, 1, 6, 0)"
      ]
     },
     "execution_count": 5,
     "metadata": {},
     "output_type": "execute_result"
    }
   ],
   "source": [
    "datetime.datetime.utcfromtimestamp(1577858400)"
   ]
  },
  {
   "cell_type": "code",
   "execution_count": null,
   "id": "4ea09802-3a2a-4a06-b291-207944b585d5",
   "metadata": {},
   "outputs": [],
   "source": []
  },
  {
   "cell_type": "code",
   "execution_count": null,
   "id": "a92dec75-e528-47eb-8f9b-578dca5d56b5",
   "metadata": {},
   "outputs": [],
   "source": []
  },
  {
   "cell_type": "code",
   "execution_count": null,
   "id": "d7fc6cfd-eba2-4d54-9d1c-9a8967dedb22",
   "metadata": {},
   "outputs": [],
   "source": []
  }
 ],
 "metadata": {
  "kernelspec": {
   "display_name": "Python 3 (ipykernel)",
   "language": "python",
   "name": "python3"
  },
  "language_info": {
   "codemirror_mode": {
    "name": "ipython",
    "version": 3
   },
   "file_extension": ".py",
   "mimetype": "text/x-python",
   "name": "python",
   "nbconvert_exporter": "python",
   "pygments_lexer": "ipython3",
   "version": "3.10.13"
  }
 },
 "nbformat": 4,
 "nbformat_minor": 5
}
